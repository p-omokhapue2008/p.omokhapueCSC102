{
 "cells": [
  {
   "cell_type": "code",
   "execution_count": 1,
   "metadata": {},
   "outputs": [
    {
     "name": "stdout",
     "output_type": "stream",
     "text": [
      "The name of city 1 after swapping is Ibadan\n",
      "The name of city 2 after swapping is Lagos\n"
     ]
    }
   ],
   "source": [
    "# Python program to swap two cities\n",
    "\n",
    "# To take inputs from the user\n",
    "city_1 = input('Enter name of city 1:')\n",
    "city_2 = input('Enter name of city 2:')\n",
    "\n",
    "# create a temporary variable and swap the cities\n",
    "temp = city_1\n",
    "city_1 = city_2\n",
    "city_2 = temp\n",
    "\n",
    "print(f\"The name of city 1 after swapping is {city_1}\")\n",
    "print(f\"The name of city 2 after swapping is {city_2}\")"
   ]
  }
 ],
 "metadata": {
  "kernelspec": {
   "display_name": "base",
   "language": "python",
   "name": "python3"
  },
  "language_info": {
   "codemirror_mode": {
    "name": "ipython",
    "version": 3
   },
   "file_extension": ".py",
   "mimetype": "text/x-python",
   "name": "python",
   "nbconvert_exporter": "python",
   "pygments_lexer": "ipython3",
   "version": "3.12.7"
  }
 },
 "nbformat": 4,
 "nbformat_minor": 2
}
