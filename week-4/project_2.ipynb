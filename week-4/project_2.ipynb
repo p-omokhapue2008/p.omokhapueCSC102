{
 "cells": [
  {
   "cell_type": "code",
   "execution_count": 1,
   "metadata": {},
   "outputs": [
    {
     "name": "stdout",
     "output_type": "stream",
     "text": [
      "Annual Tax Revenue (ATR) is ₦550,000\n"
     ]
    }
   ],
   "source": [
    "# Project II: ATR Calculator for Izifin Technology\n",
    "\n",
    "# Ask for user input\n",
    "experience = int(input(\"Enter years of experience: \"))\n",
    "age = int(input(\"Enter age: \"))\n",
    "\n",
    "# Check conditions and calculate ATR\n",
    "if experience > 25 and age >= 55:\n",
    "    atr = 5600000\n",
    "elif experience > 20 and age >= 45:\n",
    "    atr = 4480000\n",
    "elif experience > 10 and age >= 35:\n",
    "    atr = 1500000\n",
    "else:\n",
    "    atr = 550000\n",
    "\n",
    "# Display the result\n",
    "print(\"Annual Tax Revenue (ATR) is ₦{:,}\".format(atr))\n"
   ]
  }
 ],
 "metadata": {
  "kernelspec": {
   "display_name": "base",
   "language": "python",
   "name": "python3"
  },
  "language_info": {
   "codemirror_mode": {
    "name": "ipython",
    "version": 3
   },
   "file_extension": ".py",
   "mimetype": "text/x-python",
   "name": "python",
   "nbconvert_exporter": "python",
   "pygments_lexer": "ipython3",
   "version": "3.12.7"
  }
 },
 "nbformat": 4,
 "nbformat_minor": 2
}
