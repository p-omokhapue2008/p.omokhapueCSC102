{
 "cells": [
  {
   "cell_type": "code",
   "execution_count": 13,
   "metadata": {},
   "outputs": [
    {
     "name": "stdout",
     "output_type": "stream",
     "text": [
      "Welcome to the COUPE DE ESCRIVA 2023: FOOTBALL PICKS \n",
      " \n",
      "Madiba: Chubby Obiora-Okafo\n",
      "Blue-Jays: Christopher Uweh\n",
      "Cirok:  Alexander\n",
      "TSG Walkers: Ikechukwu\n",
      "\n",
      "\n",
      "Madiba: Chubby Obiora-Okafo\n",
      "Blue-Jays: Oladimeji Abaniowondea/Jefrrey Awagu\n",
      "Cirok: Timileyin Pearse/Izuako Jeremy\n",
      "TSG Walkers: Ayomide Ojituku\n"
     ]
    }
   ],
   "source": [
    "# COUPE DE ESCRIVA 2023: FOOTBALL PICKS\n",
    "\n",
    "print(\"Welcome to the COUPE DE ESCRIVA 2023: FOOTBALL PICKS \\n \")\n",
    "\n",
    "captain = {'Madiba:': 'Chubby Obiora-Okafo', 'Blue-Jays:': 'Christopher Uweh',\n",
    "           'Cirok: ': 'Alexander', 'TSG Walkers:': 'Ikechukwu'}\n",
    "\n",
    "goalkeepers = {'Madiba:': 'Chubby Obiora-Okafo',\n",
    "               'Blue-Jays:': 'Oladimeji Abaniowondea/Jefrrey Awagu',\n",
    "               'Cirok:': 'Timileyin Pearse/Izuako Jeremy',\n",
    "               'TSG Walkers:': 'Ayomide Ojituku'}\n",
    "\n",
    "for pick in captain:\n",
    "    print(pick, captain[pick])\n",
    "\n",
    "print(\"\\n\")\n",
    "\n",
    "for pick in goalkeepers:\n",
    "    print(pick, goalkeepers[pick])"
   ]
  }
 ],
 "metadata": {
  "kernelspec": {
   "display_name": "base",
   "language": "python",
   "name": "python3"
  },
  "language_info": {
   "codemirror_mode": {
    "name": "ipython",
    "version": 3
   },
   "file_extension": ".py",
   "mimetype": "text/x-python",
   "name": "python",
   "nbconvert_exporter": "python",
   "pygments_lexer": "ipython3",
   "version": "3.12.7"
  }
 },
 "nbformat": 4,
 "nbformat_minor": 2
}
